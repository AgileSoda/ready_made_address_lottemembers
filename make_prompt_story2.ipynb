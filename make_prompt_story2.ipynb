{
 "cells": [
  {
   "cell_type": "code",
   "execution_count": 5,
   "id": "c980279b-19cd-48c4-b5b5-d684e9d7bc11",
   "metadata": {
    "tags": []
   },
   "outputs": [],
   "source": [
    "import openai\n",
    "import pandas as pd"
   ]
  },
  {
   "cell_type": "code",
   "execution_count": 36,
   "id": "7732a9da-938b-4d36-95ce-67c869a9b12d",
   "metadata": {},
   "outputs": [],
   "source": [
    "openai.api_key = \"\" # API Key"
   ]
  },
  {
   "cell_type": "code",
   "execution_count": 71,
   "id": "21a50361-f36a-4506-b3e5-010cd9549239",
   "metadata": {
    "tags": []
   },
   "outputs": [],
   "source": [
    "df = pd.read_csv('data/preprocessed_commercial_area.csv')"
   ]
  },
  {
   "cell_type": "code",
   "execution_count": null,
   "id": "96c8a3a3-6a15-4bfa-aa48-9b38d4b0da31",
   "metadata": {},
   "outputs": [],
   "source": [
    "# one-shot\n",
    "oneshot_prompt = f'''\n",
    "[정보]\n",
    "- 당신은 대형마트 마케팅 담당자이며, 서대문구 신촌동을 바탕으로 마케팅을 진행하려 합니다.\n",
    "\n",
    "[요청]\n",
    "- [상권 정보]의 내용에 기반하여 종합적인 마케팅 전략을 자세히 설명해주세요.\n",
    "- [상권 정보]의 내용에 기반하여 상권을 분석해주세요.\n",
    "- 모든 글은 하나의 흐름으로 자연스럽게 이어지도록 작성해주세요.\n",
    "- 분량은 최대 1,000자로 제한해 주세요.\n",
    "- [상권 정보]는 모두 2022년 기준의 정보입니다.\n",
    "\n",
    "[분류] \n",
    "- 유동인구는 (대형, 중형, 소형)으로 나눌 수 있습니다.\n",
    "- 소비특성은 (한식, 중식, 일식, 양식, 카페, 일반학원, 외국어학원, 병원, 슈퍼마켓, 편의점, 의류, 가방, 화장품)으로 나눌 수 있습니다.\n",
    "- 경쟁환경은 (한식, 중식, 일식, 양식, 카페, 일반학원, 외국어학원, 병원, 슈퍼마켓, 편의점, 의류, 가방, 화장품)으로 나눌 수 있습니다.\n",
    "- 소득은 (저소득, 중소득, 고소득)으로 나눌 수 있습니다.\n",
    "\n",
    "[상권 정보]\n",
    "- 유동인구 : 중형 상권(유동인구 상위 58%로 보통인 편)\n",
    "- 소비특성 : 한식 상권(한식음식점 점포수 상위 2.8%로 높은 편), 카페 상권(카페 점포수 상위 2%로 높은 편)\n",
    "- 경쟁환경 : 한식 경쟁과열 상권(한식음식점 폐업률 상위 5%로 높은 편)\n",
    "- 소득 : 중소득 상권(평균소득 7분위로 보통인 편)\n",
    "'''\n",
    "oneshot_answer = f'서대문구 신촌동은 중형 상권으로 유동인구가 상위 58%로 보통인 편입니다.\\\n",
    "따라서 유동인구을 고려한 마케팅은 효과가 없을 것으로 예상됩니다. 또한, 소비특성을 살펴보면 한식 상권과 카페 상권이 높은 점포수를 보유하고 있습니다. \\\n",
    "따라서, 대형마트에는 한식 또는 카페 위주의 점포를 입주시키는 것이 좋아보입니다. 그러나, 한식 경쟁과열 상권으로 폐업률이 높은 것으로 나타나, 경쟁 업체와 차별화된 마케팅 전략을 수립해야 합니다. \\\n",
    "예를 들어, 한식음식점에서는 지방에서만 볼 수 있는 특색있는 음식점, 카페에서는 특별한 이벤트나 할인 행사를 진행하는 것이 좋습니다. 또한, 중소득 상권으로 평균소득이 7분위로 보통인 편입니다. \\\n",
    "이에 따라, 가격대는 너무 높게 잡지 않아야 효과를 볼 수 있을 것 입니다. 역세권과 대학가 상권으로 위치적인 장점을 가지고 있으므로, 이를 활용한 마케팅 전략도 고려해야 합니다. \\\n",
    "예를 들어, 시험기간 대학생을 대상으로 할인 행사를 진행하는 것이 좋습니다.고객분포는 1차 상권으로 밀집도가 상위 5%로 높은 편입니다. 이에 따라, 잘만하면 마케팅 효과가 크게 날 수 있을 것 입니다. \\\n",
    "주요 연령대는 20대와 40대가 높은 비중을 차지하고 있으므로, 이들을 대상으로 한 마케팅 전략도 고려해야 합니다. 예를 들어, SNS를 활용한 마케팅이나, 편리한 온라인 주문 서비스를 강화하는 것이 좋습니다.'"
   ]
  },
  {
   "cell_type": "code",
   "execution_count": 169,
   "id": "e61ffaf6-8bc7-47fe-848a-89870d6b6356",
   "metadata": {
    "tags": []
   },
   "outputs": [],
   "source": [
    "result = pd.DataFrame({'시군구':[],'행정구역':[],'story':[]})"
   ]
  },
  {
   "cell_type": "code",
   "execution_count": 172,
   "id": "bd3c7f0c-1f3b-407e-87bc-f0f600dec9dd",
   "metadata": {
    "tags": []
   },
   "outputs": [],
   "source": [
    "for index,row in df.iterrows():\n",
    "\n",
    "    prompt = f'''\n",
    "    [정보]\n",
    "    - 당신은 대형마트 마케팅 담당자이며, {row['시군구']+' '+row['행정구역']}을 바탕으로 마케팅을 진행하려 합니다.\n",
    "\n",
    "    [요청]\n",
    "    - [상권 정보]의 내용에 기반하여 종합적인 마케팅 전략을 자세히 설명해주세요.\n",
    "    - [상권 정보]의 내용에 기반하여 상권을 분석해주세요.\n",
    "    - 모든 글은 하나의 흐름으로 자연스럽게 이어지도록 작성해주세요.\n",
    "    - 분량은 최대 1,000자로 제한해 주세요.\n",
    "    - [상권 정보]는 모두 2022년 기준의 정보입니다.\n",
    "\n",
    "    [분류] \n",
    "    - 유동인구는 (대형, 중형, 소형)으로 나눌 수 있습니다.\n",
    "    - 소비특성은 (한식, 중식, 일식, 양식, 카페, 일반학원, 외국어학원, 병원, 슈퍼마켓, 편의점, 의류, 가방, 화장품)으로 나눌 수 있습니다.\n",
    "    - 경쟁환경은 (한식, 중식, 일식, 양식, 카페, 일반학원, 외국어학원, 병원, 슈퍼마켓, 편의점, 의류, 가방, 화장품)으로 나눌 수 있습니다.\n",
    "    - 소득은 (저소득, 중소득, 고소득)으로 나눌 수 있습니다.\n",
    "    - 배후시설은 (역세권, 대학가, 번화가, 오피스, 교외)으로 나눌 수 있습니다.\n",
    "    - 고객분포는 밀집도에 큰 순서대로 (1차, 2차, 3차)으로 나눌 수 있습니다.\n",
    "    - 주요연령대는 (10대 부터 90대)으로 나눌 수 있습니다.\n",
    "    \n",
    "    [상권 정보]\n",
    "    - 유동인구 : 유동인구 상위 {row['2022 길단위 유동인구 등급']}%로 {'높은' if row['2022 길단위 유동인구 등급']<=20 else '보통인' if row['2022 길단위 유동인구 등급']<=80 else '낮은'} 편\n",
    "    - 소비특성 : '''\n",
    "    for category in ('한식', '중식', '일식', '양식', '커피', '일반교습학원', '외국어학원', '병원', '슈퍼마켓', '편의점', '일반의류', '가방', '화장품'):\n",
    "        columns = [i for i in row.index if category in i and '전체' in i and ('점포수' in i or '등급' in i)]\n",
    "        if row[columns[1]] <= 20:\n",
    "            prompt += f\"{category}상권({category} 점포수 상위 {row[columns[1]]}%로 높은 편),\"\n",
    "    prompt += \"\\n    - 경쟁환경 : \"    \n",
    "    for category in ('한식', '중식', '일식', '양식', '커피', '일반교습학원', '외국어학원', '병원', '슈퍼마켓', '편의점', '일반의류', '가방', '화장품'):\n",
    "        # print([i for i in row.index if category in i and '폐업률' in i])\n",
    "        columns = [i for i in row.index if category in i and '폐업률' in i]\n",
    "        if row[columns[1]] <= 20:\n",
    "            prompt += f\"{category} 경쟁과열 상권({category} 폐업률 상위 {row[columns[1]]}%로 높은 편),\"\n",
    "    prompt += \"\\n    - 소득 : \"\n",
    "    if '9' in row['2022 소득분위'] or '8' in row['2022 소득분위']:\n",
    "        prompt += f\"고소득 상권(평균소득 {row['2022 소득분위'][0]}분위로 높은 편)\"\n",
    "    elif '1' in row['2022 소득분위'] or '2' in row['2022 소득분위']:\n",
    "        prompt += f\"중소득 상권(평균소득 {row['2022 소득분위'][0]}분위로 보통인 편)\"\n",
    "    else:\n",
    "        prompt += f\"저소득 상권(평균소득 {row['2022 소득분위'][0]}분위로 낮은 편)\"\n",
    "    prompt += \"\\n    - 배후시설 : \" \n",
    "    for category in ('역세권', '대학가', '번화가', '오피스', '교외'):\n",
    "        if row[columns[1]] <= 20:\n",
    "            prompt += f\"{category} 경쟁과열 상권({category} 폐업률 상위 {row[columns[1]]}%로 높은 편),\"\n",
    "            \n",
    "    messages = [\n",
    "        {\"role\": \"user\", \"content\": oneshot_prompt},\n",
    "        {\"role\": \"assistant\", \"content\": oneshot_answer},\n",
    "        {\"role\": \"user\", \"content\": prompt},\n",
    "    ]\n",
    "    \n",
    "    completion = openai.ChatCompletion.create(\n",
    "        model=\"gpt-3.5-turbo\",\n",
    "        messages=messages,\n",
    "        temperature = 0,\n",
    "    )\n",
    "    \n",
    "    result = pd.concat([result,pd.DataFrame({'시군구':[row['시군구']],'행정구역':[row['행정구역']],'story':completion['choices'][0]['message']['content']})])\n",
    "\n",
    "\n"
   ]
  },
  {
   "cell_type": "code",
   "execution_count": 173,
   "id": "98792c9f-2a23-47f1-ae0e-afe318da20ae",
   "metadata": {
    "tags": []
   },
   "outputs": [
    {
     "data": {
      "text/html": [
       "<div>\n",
       "<style scoped>\n",
       "    .dataframe tbody tr th:only-of-type {\n",
       "        vertical-align: middle;\n",
       "    }\n",
       "\n",
       "    .dataframe tbody tr th {\n",
       "        vertical-align: top;\n",
       "    }\n",
       "\n",
       "    .dataframe thead th {\n",
       "        text-align: right;\n",
       "    }\n",
       "</style>\n",
       "<table border=\"1\" class=\"dataframe\">\n",
       "  <thead>\n",
       "    <tr style=\"text-align: right;\">\n",
       "      <th></th>\n",
       "      <th>시군구</th>\n",
       "      <th>행정구역</th>\n",
       "      <th>story</th>\n",
       "    </tr>\n",
       "  </thead>\n",
       "  <tbody>\n",
       "    <tr>\n",
       "      <th>0</th>\n",
       "      <td>종로구</td>\n",
       "      <td>청운효자동</td>\n",
       "      <td>\\n    [정보]\\n    - 당신은 대형마트 마케팅 담당자이며, 종로구 청운효자...</td>\n",
       "    </tr>\n",
       "    <tr>\n",
       "      <th>0</th>\n",
       "      <td>종로구</td>\n",
       "      <td>청운효자동</td>\n",
       "      <td>역세권 상권(지하철 1호선, 3호선, 5호선), 대학가 상권(서울여자대학교, 성균관...</td>\n",
       "    </tr>\n",
       "  </tbody>\n",
       "</table>\n",
       "</div>"
      ],
      "text/plain": [
       "   시군구   행정구역                                              story\n",
       "0  종로구  청운효자동  \\n    [정보]\\n    - 당신은 대형마트 마케팅 담당자이며, 종로구 청운효자...\n",
       "0  종로구  청운효자동  역세권 상권(지하철 1호선, 3호선, 5호선), 대학가 상권(서울여자대학교, 성균관..."
      ]
     },
     "execution_count": 173,
     "metadata": {},
     "output_type": "execute_result"
    }
   ],
   "source": [
    "result"
   ]
  },
  {
   "cell_type": "code",
   "execution_count": null,
   "id": "71d02b3b-f5ec-473a-a338-a87ca39d72d5",
   "metadata": {},
   "outputs": [],
   "source": []
  }
 ],
 "metadata": {
  "kernelspec": {
   "display_name": "Python 3 (ipykernel)",
   "language": "python",
   "name": "python3"
  },
  "language_info": {
   "codemirror_mode": {
    "name": "ipython",
    "version": 3
   },
   "file_extension": ".py",
   "mimetype": "text/x-python",
   "name": "python",
   "nbconvert_exporter": "python",
   "pygments_lexer": "ipython3",
   "version": "3.8.16"
  }
 },
 "nbformat": 4,
 "nbformat_minor": 5
}
