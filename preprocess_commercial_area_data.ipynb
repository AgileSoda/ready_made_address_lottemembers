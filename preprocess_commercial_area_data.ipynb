{
 "cells": [
  {
   "cell_type": "code",
   "execution_count": 1,
   "metadata": {},
   "outputs": [],
   "source": [
    "import pandas as pd"
   ]
  },
  {
   "cell_type": "code",
   "execution_count": 2,
   "metadata": {},
   "outputs": [],
   "source": [
    "df = pd.read_csv(\"data/commercial_area.csv\", dtype={\"행정구역코드\": \"object\"})"
   ]
  },
  {
   "cell_type": "code",
   "execution_count": 3,
   "metadata": {},
   "outputs": [],
   "source": [
    "# 시군구 추출\n",
    "area_code = {k: v for v, k in df[df[\"구분\"] == \"gu\"][[\"행정구역\", \"행정구역코드\"]].values}\n",
    "\n",
    "# 행정동 추출\n",
    "df = df[df[\"구분\"] == \"dong\"].reset_index(drop=True)\n",
    "df[\"시군구\"] = df[\"행정구역코드\"].apply(lambda x: area_code[x[:5]])\n",
    "\n",
    "df.drop([\"행정구역코드\", \"구분\"], axis=1, inplace=True)\n",
    "df = df[[df.columns[-1]] + list(df.columns[:-1])]"
   ]
  },
  {
   "cell_type": "code",
   "execution_count": 4,
   "metadata": {},
   "outputs": [],
   "source": [
    "result = df[[\"시군구\", \"행정구역\"]].copy()"
   ]
  },
  {
   "cell_type": "code",
   "execution_count": 5,
   "metadata": {},
   "outputs": [],
   "source": [
    "for col in df.columns:\n",
    "    if \"2022\" not in col:\n",
    "        continue\n",
    "\n",
    "    # 점포수\n",
    "    if \"점포수\" in col:\n",
    "        # 점포수 개수\n",
    "        result[col] = df[col]\n",
    "        # 상위 -%\n",
    "        result[col + \" 등급\"] = round((df[col].rank(method=\"max\", ascending=False) / df.shape[0]) * 100, 1)\n",
    "        # 작년 대비 증가 개수\n",
    "        result[\" \".join(col.split(\" \")[1:] + [\"변화율\"])] = round(df[col] - df[col.replace(\"2022\", \"2021\")], 2)\n",
    "    # 신생기업 생존율\n",
    "    elif \"신생기업\" in col:\n",
    "        result[col] = df[col].replace(\"-\", \"\")\n",
    "    # 평균영업기간\n",
    "    elif \"10년기준\" in col:\n",
    "        result[col] = df[col].round(1)\n",
    "        # 상위 -%\n",
    "        result[col + \" 등급\"] = round((df[col].rank(method=\"max\", ascending=False) / df.shape[0]) * 100, 1)\n",
    "        # 작년 대비 증가 비율\n",
    "        result[\" \".join(col.split(\" \")[1:] + [\"변화율\"])] = round((df[col] / df[col.replace(\"2022\", \"2021\")] * 100) - 100, 1)\n",
    "    # 개업수\n",
    "    elif \"개업수\" in col or \"폐업수\" in col or \"개업률\" in col or \"폐업률\" in col:\n",
    "        result[col] = df[col]\n",
    "        # 상위 -%\n",
    "        result[col + \" 등급\"] = round((df[col].rank(method=\"max\", ascending=False) / df.shape[0]) * 100, 1)\n",
    "    # 인구수\n",
    "    elif \"인구\" in col:\n",
    "        result[col] = df[col]\n",
    "        # 상위 -%\n",
    "        result[col + \" 등급\"] = round((df[col].rank(method=\"max\", ascending=False) / df.shape[0]) * 100, 1)\n",
    "    # 소득/가구수\n",
    "    elif \"소득분위\" in col or \"가구수\" in col:\n",
    "        result[col] = df[col]\n",
    "        # 상위 -%\n",
    "        result[col + \" 등급\"] = round((df[col].rank(method=\"max\", ascending=False) / df.shape[0]) * 100, 1)\n",
    "    # 임대시세\n",
    "    elif \"환산임대료\" in col and \"전체\" in col:\n",
    "        df[col] = df[col].replace(\",\", \"\").replace(\" \", \"\").apply(lambda x: int(x) if x else 0)\n",
    "        df[col.replace(\"2022\", \"2021\")] = df[col.replace(\"2022\", \"2021\")].replace(\",\", \"\").replace(\" \", \"\").apply(lambda x: int(x) if x else 0)\n",
    "        \n",
    "        result[col] = df[col]\n",
    "        # 상위 -%\n",
    "        result[col + \" 등급\"] = round((df[col].rank(method=\"max\", ascending=False) / df.shape[0]) * 100, 1)\n",
    "        # 작년 대비 증가 비율\n",
    "        result[\" \".join(col.split(\" \")[1:] + [\"변화율\"])] = round((df[col] / df[col.replace(\"2022\", \"2021\")] * 100) - 100, 1)"
   ]
  },
  {
   "cell_type": "code",
   "execution_count": 6,
   "metadata": {},
   "outputs": [],
   "source": [
    "# 점포수\n",
    "# 외식업의 패스트푸드 전체 점포수는 몇개로 서울 행정동내에서 상위(하위) -%이며 작년 대비 증가(감소) 했다.\n",
    "# 외식업의 패스트푸드 프렌차이점 개수는 몇개로 서울 행정동내에서 상위(하위) -%이며 작년 대비 증가(감소) 했다.\n",
    "# 외식업의 패스트푸드 일반 점포수는 몇개로 서울 행정동내에서 상위(하위) -%이며 작년 대비 증가(감소) 했다.\n",
    "\n",
    "# 신생기업 생존율\n",
    "# 외식업의 패스트푸드 1년 생존율은 약 -%이다.\n",
    "# 외식업의 패스트푸드 3년 생존율은 약 -%이다.\n",
    "# 외식업의 패스트푸드 5년 생존율은 약 -%이다.\n",
    "\n",
    "# 평균영업기간\n",
    "# 외식업의 패스트푸드 최근 10년기준 평균 영업기간은 -년으로 행정동내에서 상위(하위) -%이다.\n",
    "# 외식업의 패스트푸드 작년 대비 최근 10년기준 평균 영업기간은 -% 증가(감소)했다.\n",
    "\n",
    "# 개/폐업수(률)\n",
    "# 외식업의 패스트푸드 개업수는 몇개로 서울 행정동내에서 상위(하위) -%이다.\n",
    "# 외식업의 패스트푸드 폐업수는 몇개로 서울 행정동내에서 상위(하위) -%이다.\n",
    "# 외식업의 패스트푸드 개업율은 몇 %로 서울 행정동내에서 상위(하위) -%이다.\n",
    "# 외식업의 패스트푸드 폐업율는 몇 %로 서울 행정동내에서 상위(하위) -%이다.\n",
    "\n",
    "# 인구수\n",
    "# 길단위 유동인구 수는 -명이며 서울 행정동내에서 상위(하위) -%이다.\n",
    "# 주거인구 수는 -명이며 서울 행정동내에서 상위(하위) -%이다.\n",
    "# 직장인구 수는 -명이며 서울 행정동내에서 상위(하위) -%이다.\n",
    "# 작년 대비 길단위 유동인구 수 -% 증가(감소)했다.\n",
    "# 작년 대비 주거인구 수는 -% 증가(감소)했다.\n",
    "# 작년 대비 직장인구 수는 -% 증가(감소)했다.\n",
    "\n",
    "# 소득/가구수\n",
    "# 소득분위는 몇분위로 (a-b)사이 이며 서울 행정동내에서 상위(하위) -%이다.\n",
    "# 가구수 -이며 서울 행정동내에서 상위(하위) -%이다.\n",
    "\n",
    "# 임대시세\n",
    "# 1평당 월 임대시세는 -이며 서울 행정동내 상위(하위) -%이다.\n",
    "# 직년 대비 1평당 월 임대시세는 -% 상승(감소)했다."
   ]
  },
  {
   "cell_type": "code",
   "execution_count": 8,
   "metadata": {},
   "outputs": [],
   "source": [
    "result.to_csv(\"data/preprocessed_commercial_area.csv\", index=False)"
   ]
  },
  {
   "cell_type": "code",
   "execution_count": null,
   "metadata": {},
   "outputs": [],
   "source": []
  }
 ],
 "metadata": {
  "kernelspec": {
   "display_name": "Python 3",
   "language": "python",
   "name": "python3"
  },
  "language_info": {
   "codemirror_mode": {
    "name": "ipython",
    "version": 3
   },
   "file_extension": ".py",
   "mimetype": "text/x-python",
   "name": "python",
   "nbconvert_exporter": "python",
   "pygments_lexer": "ipython3",
   "version": "3.8.6"
  }
 },
 "nbformat": 4,
 "nbformat_minor": 4
}
