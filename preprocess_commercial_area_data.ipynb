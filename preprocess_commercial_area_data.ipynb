{
 "cells": [
  {
   "cell_type": "code",
   "execution_count": 1,
   "metadata": {},
   "outputs": [],
   "source": [
    "import pandas as pd"
   ]
  },
  {
   "cell_type": "code",
   "execution_count": 2,
   "metadata": {},
   "outputs": [],
   "source": [
    "df = pd.read_csv(\"data/commercial_area.csv\", dtype={\"행정구역코드\": \"object\"})"
   ]
  },
  {
   "cell_type": "code",
   "execution_count": 3,
   "metadata": {},
   "outputs": [],
   "source": [
    "# 시군구 추출\n",
    "area_code = {k: v for v, k in df[df[\"구분\"] == \"gu\"][[\"행정구역\", \"행정구역코드\"]].values}\n",
    "\n",
    "# 행정동 추출\n",
    "df = df[df[\"구분\"] == \"dong\"].reset_index(drop=True)\n",
    "df[\"시군구\"] = df[\"행정구역코드\"].apply(lambda x: area_code[x[:5]])\n",
    "\n",
    "df.drop([\"행정구역코드\", \"구분\"], axis=1, inplace=True)\n",
    "df2 = df[[df.columns[-1]] + list(df.columns[:-1])]"
   ]
  },
  {
   "cell_type": "markdown",
   "metadata": {},
   "source": [
    "# 값 순위"
   ]
  },
  {
   "cell_type": "code",
   "execution_count": 4,
   "metadata": {},
   "outputs": [],
   "source": [
    "ranked = df2.set_index(['시군구','행정구역']).groupby('시군구').rank(method='dense',ascending=False).reset_index()"
   ]
  },
  {
   "cell_type": "code",
   "execution_count": 5,
   "metadata": {},
   "outputs": [],
   "source": [
    "ranked = ranked.rename(columns={column:column+' 구내 순위' for column in ranked.columns if column not in ['시군구','행정구역']})"
   ]
  },
  {
   "cell_type": "markdown",
   "metadata": {},
   "source": [
    "# 변화량 순위"
   ]
  },
  {
   "cell_type": "code",
   "execution_count": 6,
   "metadata": {},
   "outputs": [],
   "source": [
    "change = df2[[column for column in df2.columns if '소득' not in column]]"
   ]
  },
  {
   "cell_type": "code",
   "execution_count": 7,
   "metadata": {},
   "outputs": [],
   "source": [
    "change = change.replace('-',0).replace(' ',0)"
   ]
  },
  {
   "cell_type": "code",
   "execution_count": 8,
   "metadata": {},
   "outputs": [],
   "source": [
    "change.iloc[:,2:] = change.iloc[:,2:].astype(float)"
   ]
  },
  {
   "cell_type": "code",
   "execution_count": 9,
   "metadata": {},
   "outputs": [],
   "source": [
    "for column in change.columns:\n",
    "    if '2022' in column:\n",
    "        change[column+' 작년 동분기 대비 상승률'] = round(100*(change[column]-change[column.replace('2022','2021')])/change[column.replace('2022','2021')],1)\n",
    "        change[column+' 작년 동분기 대비 하락률'] = round(100*(change[column.replace('2022','2021')]-change[column])/change[column.replace('2022','2021')],1)\n"
   ]
  },
  {
   "cell_type": "code",
   "execution_count": 10,
   "metadata": {},
   "outputs": [],
   "source": [
    "change_ranked = change[['시군구','행정구역']+[column for column in change.columns if column[-1]=='률']].fillna(0).set_index(['시군구','행정구역']).groupby('시군구').rank(method='dense',ascending=False).reset_index()"
   ]
  },
  {
   "cell_type": "code",
   "execution_count": 11,
   "metadata": {},
   "outputs": [],
   "source": [
    "change_ranked = change_ranked.rename(columns={column:column+' 구내 순위' for column in change_ranked.columns if column not in ['시군구','행정구역']})"
   ]
  },
  {
   "cell_type": "markdown",
   "metadata": {},
   "source": [
    "# Merge"
   ]
  },
  {
   "cell_type": "code",
   "execution_count": 12,
   "metadata": {},
   "outputs": [],
   "source": [
    "merged = df2.merge(ranked).merge(change_ranked)"
   ]
  },
  {
   "cell_type": "code",
   "execution_count": 13,
   "metadata": {},
   "outputs": [],
   "source": [
    "merged = merged.astype({col: int for col in merged.select_dtypes(include='float64').columns})"
   ]
  },
  {
   "cell_type": "code",
   "execution_count": 15,
   "metadata": {},
   "outputs": [],
   "source": [
    "merged.to_csv(\"data/preprocessed_commercial_area.csv\", index=False)"
   ]
  },
  {
   "cell_type": "code",
   "execution_count": null,
   "metadata": {},
   "outputs": [],
   "source": []
  },
  {
   "cell_type": "code",
   "execution_count": null,
   "metadata": {},
   "outputs": [],
   "source": []
  }
 ],
 "metadata": {
  "kernelspec": {
   "display_name": "Python 3",
   "language": "python",
   "name": "python3"
  },
  "language_info": {
   "codemirror_mode": {
    "name": "ipython",
    "version": 3
   },
   "file_extension": ".py",
   "mimetype": "text/x-python",
   "name": "python",
   "nbconvert_exporter": "python",
   "pygments_lexer": "ipython3",
   "version": "3.8.6"
  }
 },
 "nbformat": 4,
 "nbformat_minor": 4
}
