{
 "cells": [
  {
   "cell_type": "code",
   "execution_count": 8,
   "id": "881f40e8",
   "metadata": {},
   "outputs": [],
   "source": [
    "import pandas as pd\n",
    "import numpy as np\n",
    "from sklearn.cluster import KMeans\n",
    "from sklearn.preprocessing import StandardScaler\n",
    "from sklearn.metrics import silhouette_score\n",
    "import matplotlib.pyplot as plt\n",
    "from pprint import pprint\n",
    "import seaborn as sns"
   ]
  },
  {
   "cell_type": "code",
   "execution_count": 9,
   "id": "2b6a1921",
   "metadata": {},
   "outputs": [],
   "source": [
    "df = pd.read_csv('data/preprocessed_commercial_area.csv')"
   ]
  },
  {
   "cell_type": "code",
   "execution_count": 10,
   "id": "9018c2c4",
   "metadata": {},
   "outputs": [],
   "source": [
    "df['2022 소득분위'] = df['2022 소득분위'].apply(lambda x:int(x[0]))"
   ]
  },
  {
   "cell_type": "code",
   "execution_count": 11,
   "id": "c65cb1f1",
   "metadata": {},
   "outputs": [
    {
     "name": "stdout",
     "output_type": "stream",
     "text": [
      "5 중 0번째 군집에서 값이 가장 큰 컬럼\n",
      "['2022 소득분위 등급',\n",
      " '전체 점포수 외식업 한식음식점 변화율',\n",
      " '프렌차이즈 점포수 외식업 한식음식점 변화율',\n",
      " '2022 최근 10년기준 외식업 일식음식점 등급',\n",
      " '2022 최근 10년기준 외식업 양식음식점 등급']\n",
      "\n",
      "5 중 1번째 군집에서 값이 가장 큰 컬럼\n",
      "['2022 길단위 유동인구',\n",
      " '2022 가구수',\n",
      " '환산임대료 전체 변화율',\n",
      " '2022 전체 점포수 외식업 한식음식점',\n",
      " '2022 프렌차이즈 점포수 외식업 한식음식점',\n",
      " '2022 일반 점포수 외식업 한식음식점',\n",
      " '2022 전체 점포수 외식업 중식음식점',\n",
      " '2022 프렌차이즈 점포수 외식업 중식음식점',\n",
      " '2022 일반 점포수 외식업 중식음식점',\n",
      " '2022 전체 점포수 외식업 일식음식점',\n",
      " '전체 점포수 외식업 일식음식점 변화율',\n",
      " '2022 프렌차이즈 점포수 외식업 일식음식점',\n",
      " '프렌차이즈 점포수 외식업 일식음식점 변화율',\n",
      " '2022 신생기업 1년 생존율 외식업 한식음식점',\n",
      " '2022 신생기업 1년 생존율 외식업 중식음식점',\n",
      " '2022 신생기업 3년 생존율 외식업 중식음식점',\n",
      " '2022 신생기업 5년 생존율 외식업 중식음식점',\n",
      " '2022 신생기업 1년 생존율 외식업 일식음식점',\n",
      " '2022 신생기업 3년 생존율 외식업 일식음식점',\n",
      " '2022 신생기업 1년 생존율 외식업 양식음식점',\n",
      " '2022 신생기업 3년 생존율 외식업 양식음식점',\n",
      " '2022 신생기업 5년 생존율 외식업 양식음식점',\n",
      " '2022 최근 10년기준 외식업 한식음식점 등급',\n",
      " '2022 최근 10년기준 외식업 중식음식점 등급',\n",
      " '2022 개업수 외식업 한식음식점',\n",
      " '2022 폐업수 외식업 한식음식점',\n",
      " '2022 개업률 외식업 한식음식점',\n",
      " '2022 폐업률 외식업 한식음식점',\n",
      " '2022 개업수 외식업 중식음식점',\n",
      " '2022 폐업수 외식업 중식음식점',\n",
      " '2022 개업률 외식업 중식음식점',\n",
      " '2022 폐업률 외식업 중식음식점',\n",
      " '2022 개업수 외식업 일식음식점',\n",
      " '2022 폐업수 외식업 일식음식점',\n",
      " '2022 개업률 외식업 일식음식점',\n",
      " '2022 폐업률 외식업 일식음식점',\n",
      " '2022 폐업수 외식업 양식음식점',\n",
      " '2022 개업률 외식업 양식음식점',\n",
      " '2022 폐업률 외식업 양식음식점']\n",
      "\n",
      "5 중 2번째 군집에서 값이 가장 큰 컬럼\n",
      "['2022 길단위 유동인구 등급',\n",
      " '2022 주거인구 등급',\n",
      " '2022 소득분위',\n",
      " '2022 가구수 등급',\n",
      " '2022 신생기업 3년 생존율 외식업 한식음식점',\n",
      " '2022 최근 10년기준 외식업 한식음식점',\n",
      " '2022 최근 10년기준 외식업 중식음식점',\n",
      " '최근 10년기준 외식업 중식음식점 변화율',\n",
      " '2022 폐업률 외식업 한식음식점 등급']\n",
      "\n",
      "5 중 3번째 군집에서 값이 가장 큰 컬럼\n",
      "['2022 직장인구',\n",
      " '2022 환산임대료 전체',\n",
      " '전체 점포수 외식업 중식음식점 변화율',\n",
      " '프렌차이즈 점포수 외식업 중식음식점 변화율',\n",
      " '2022 일반 점포수 외식업 일식음식점',\n",
      " '2022 전체 점포수 외식업 양식음식점',\n",
      " '전체 점포수 외식업 양식음식점 변화율',\n",
      " '2022 프렌차이즈 점포수 외식업 양식음식점',\n",
      " '프렌차이즈 점포수 외식업 양식음식점 변화율',\n",
      " '2022 일반 점포수 외식업 양식음식점',\n",
      " '2022 신생기업 5년 생존율 외식업 일식음식점',\n",
      " '2022 최근 10년기준 외식업 일식음식점',\n",
      " '2022 최근 10년기준 외식업 양식음식점',\n",
      " '2022 개업수 외식업 양식음식점']\n",
      "\n",
      "5 중 4번째 군집에서 값이 가장 큰 컬럼\n",
      "['2022 주거인구',\n",
      " '2022 직장인구 등급',\n",
      " '2022 환산임대료 전체 등급',\n",
      " '2022 전체 점포수 외식업 한식음식점 등급',\n",
      " '2022 프렌차이즈 점포수 외식업 한식음식점 등급',\n",
      " '2022 일반 점포수 외식업 한식음식점 등급',\n",
      " '일반 점포수 외식업 한식음식점 변화율',\n",
      " '2022 전체 점포수 외식업 중식음식점 등급',\n",
      " '2022 프렌차이즈 점포수 외식업 중식음식점 등급',\n",
      " '2022 일반 점포수 외식업 중식음식점 등급',\n",
      " '일반 점포수 외식업 중식음식점 변화율',\n",
      " '2022 전체 점포수 외식업 일식음식점 등급',\n",
      " '2022 프렌차이즈 점포수 외식업 일식음식점 등급',\n",
      " '2022 일반 점포수 외식업 일식음식점 등급',\n",
      " '일반 점포수 외식업 일식음식점 변화율',\n",
      " '2022 전체 점포수 외식업 양식음식점 등급',\n",
      " '2022 프렌차이즈 점포수 외식업 양식음식점 등급',\n",
      " '2022 일반 점포수 외식업 양식음식점 등급',\n",
      " '일반 점포수 외식업 양식음식점 변화율',\n",
      " '2022 신생기업 5년 생존율 외식업 한식음식점',\n",
      " '최근 10년기준 외식업 한식음식점 변화율',\n",
      " '최근 10년기준 외식업 일식음식점 변화율',\n",
      " '최근 10년기준 외식업 양식음식점 변화율',\n",
      " '2022 개업수 외식업 한식음식점 등급',\n",
      " '2022 폐업수 외식업 한식음식점 등급',\n",
      " '2022 개업률 외식업 한식음식점 등급',\n",
      " '2022 개업수 외식업 중식음식점 등급',\n",
      " '2022 폐업수 외식업 중식음식점 등급',\n",
      " '2022 개업률 외식업 중식음식점 등급',\n",
      " '2022 폐업률 외식업 중식음식점 등급',\n",
      " '2022 개업수 외식업 일식음식점 등급',\n",
      " '2022 폐업수 외식업 일식음식점 등급',\n",
      " '2022 개업률 외식업 일식음식점 등급',\n",
      " '2022 폐업률 외식업 일식음식점 등급',\n",
      " '2022 개업수 외식업 양식음식점 등급',\n",
      " '2022 폐업수 외식업 양식음식점 등급',\n",
      " '2022 개업률 외식업 양식음식점 등급',\n",
      " '2022 폐업률 외식업 양식음식점 등급']\n",
      "\n"
     ]
    }
   ],
   "source": [
    "# ['음식점','카페','프랜차이즈','호프']\n",
    "category = '음식점'\n",
    "k = 5\n",
    "\n",
    "\n",
    "if category == '음식점':\n",
    "    df2 = df[[column for column in df.columns if any(category in column for category in ('한식','중식','일식','양식'))]].copy()\n",
    "    \n",
    "common = df[[column for column in df.columns if not any(category in column for category in ('외식업','서비스업','소매업'))]].copy()\n",
    "df2 = pd.concat([common,df2],axis=1)\n",
    "\n",
    "# 결측치\n",
    "df2.fillna(0,inplace=True)\n",
    "df2 = df2.apply(lambda x:x.replace(float('inf'),0))\n",
    "\n",
    "# kmeans clustering\n",
    "scaler = StandardScaler()\n",
    "scaled_df = pd.DataFrame(scaler.fit_transform(df2.iloc[:,2:]))\n",
    "kmeans = KMeans(n_clusters=k,n_init=10)\n",
    "kmeans.fit(scaled_df)\n",
    "df3 = df2.copy()\n",
    "df3['label'] = kmeans.labels_\n",
    "\n",
    "ranked = df3.iloc[:,2:].groupby(['label']).mean().rank().T\n",
    "\n",
    "for label in range(k):\n",
    "    tmp = ranked.loc[:,[label]]\n",
    "    print(f'{k} 중 {label}번째 군집에서 값이 가장 큰 컬럼')\n",
    "    pprint(tmp[tmp[label]==1].index.tolist())\n",
    "    print()\n"
   ]
  },
  {
   "cell_type": "markdown",
   "id": "1fa33ed6",
   "metadata": {},
   "source": [
    "# Find Optimal K (silhouette score)"
   ]
  },
  {
   "cell_type": "code",
   "execution_count": 12,
   "id": "7167e6be",
   "metadata": {},
   "outputs": [],
   "source": [
    "def visualize_silhouette_layer(data,n_init=10):\n",
    "    clusters_range = range(3,10)\n",
    "    results = []\n",
    "\n",
    "    for i in clusters_range:\n",
    "        clusterer = KMeans(n_clusters=i,n_init=n_init,random_state=0)\n",
    "        cluster_labels = clusterer.fit_predict(data)\n",
    "        silhouette_avg = silhouette_score(data, cluster_labels)\n",
    "        results.append([i, silhouette_avg])\n",
    "\n",
    "    result = pd.DataFrame(results, columns=[\"n_clusters\", \"silhouette_score\"])\n",
    "    pivot_km = pd.pivot_table(result, index=\"n_clusters\", values=\"silhouette_score\")\n",
    "\n",
    "    plt.figure()\n",
    "    sns.heatmap(pivot_km, annot=True, linewidths=.5, fmt='.3f', cmap=sns.cm._rocket_lut)\n",
    "    plt.tight_layout()\n",
    "    plt.show()"
   ]
  },
  {
   "cell_type": "code",
   "execution_count": 13,
   "id": "e8c0f57c",
   "metadata": {},
   "outputs": [
    {
     "data": {
      "image/png": "[encoded data removed]",
      "text/plain": [
       "<Figure size 640x480 with 2 Axes>"
      ]
     },
     "metadata": {},
     "output_type": "display_data"
    }
   ],
   "source": [
    "visualize_silhouette_layer(scaled_df)"
   ]
  },
  {
   "cell_type": "code",
   "execution_count": null,
   "id": "e412a735",
   "metadata": {},
   "outputs": [],
   "source": []
  }
 ],
 "metadata": {
  "kernelspec": {
   "display_name": "Python 3 (ipykernel)",
   "language": "python",
   "name": "python3"
  },
  "language_info": {
   "codemirror_mode": {
    "name": "ipython",
    "version": 3
   },
   "file_extension": ".py",
   "mimetype": "text/x-python",
   "name": "python",
   "nbconvert_exporter": "python",
   "pygments_lexer": "ipython3",
   "version": "3.8.6"
  }
 },
 "nbformat": 4,
 "nbformat_minor": 5
}
