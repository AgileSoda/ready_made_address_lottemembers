{
 "cells": [
  {
   "cell_type": "code",
   "execution_count": 4,
   "metadata": {},
   "outputs": [],
   "source": [
    "import pandas as pd\n",
    "import openai\n",
    "import time\n",
    "from tqdm import tqdm\n",
    "\n",
    "tqdm.pandas()"
   ]
  },
  {
   "cell_type": "code",
   "execution_count": 5,
   "metadata": {},
   "outputs": [],
   "source": [
    "df = pd.read_csv(\"data/preprocessed_commercial_area.csv\")"
   ]
  },
  {
   "cell_type": "code",
   "execution_count": 6,
   "metadata": {},
   "outputs": [],
   "source": [
    "OPENAI_API_KEY = \"\"\n",
    "openai.api_key = OPENAI_API_KEY"
   ]
  },
  {
   "cell_type": "code",
   "execution_count": 7,
   "metadata": {},
   "outputs": [],
   "source": [
    "# 일부 행정동에 한해서만 진행\n",
    "area_lst = {\"압구정동\", \"역삼1동\", \"역삼2동\", \"청담동\", \"수서동\", \"대치2동\"}\n",
    "\n",
    "df = df[df[\"행정구역\"].apply(lambda area: True if area in area_lst else False)]\n",
    "\n",
    "prompt_df = df[[\"시군구\", \"행정구역\"]].copy()"
   ]
  },
  {
   "cell_type": "code",
   "execution_count": 25,
   "metadata": {},
   "outputs": [],
   "source": [
    "def make_food_store_prompt(data):\n",
    "    prompt = f\"\"\"너는 대한민국 상권 또는 지역에 대해 10년 이상 분석을 했다. 모든 지역에 대한 정보와 특징을 알고 있는 상태이다.\n",
    "\n",
    "{data[\"시군구\"]} {data[\"행정구역\"]}의 외식업 특징은 다음과 같다.\n",
    "\n",
    "패스트푸드 전체 점포수는 {data[\"2022 전체 점포수 외식업 패스트푸드\"]}개로 서울 행정동내에서 {\"많은편\" if data[\"2022 전체 점포수 외식업 패스트푸드 등급\"] <= 20 else (\"보통인편\" if data[\"2022 전체 점포수 외식업 패스트푸드 등급\"] <= 70 else \"적은편\")}이며, 작년 대비 {abs(data[\"전체 점포수 외식업 패스트푸드 변화율\"])}개 {\"증가\" if data[\"전체 점포수 외식업 패스트푸드 변화율\"] > 0 else (\"동일\" if data[\"전체 점포수 외식업 패스트푸드 변화율\"] == 0 else \"감소\")}했다.\n",
    "패스트푸드 프렌차이점 개수는 {data[\"2022 프렌차이즈 점포수 외식업 패스트푸드\"]}개로 서울 행정동내에서 {\"많은편\" if data[\"2022 프렌차이즈 점포수 외식업 패스트푸드 등급\"] <= 20 else (\"보통인편\" if data[\"2022 프렌차이즈 점포수 외식업 패스트푸드 등급\"] <= 70 else \"적은편\")}이며, 작년 대비 {abs(data[\"프렌차이즈 점포수 외식업 패스트푸드 변화율\"])}개 {\"증가\" if data[\"프렌차이즈 점포수 외식업 패스트푸드 변화율\"] > 0 else (\"동일\" if data[\"프렌차이즈 점포수 외식업 패스트푸드 변화율\"] == 0 else \"감소\")}했다.\n",
    "패스트푸드 일반 점포수는 {data[\"2022 일반 점포수 외식업 패스트푸드\"]}개로 서울 행정동내에서 {\"많은편\" if data[\"2022 일반 점포수 외식업 패스트푸드 등급\"] <= 20 else (\"보통인편\" if data[\"2022 일반 점포수 외식업 패스트푸드 등급\"] <= 70 else \"적은편\")}이며, 작년 대비 {abs(data[\"일반 점포수 외식업 패스트푸드 변화율\"])}개 {\"증가\" if data[\"일반 점포수 외식업 패스트푸드 변화율\"] > 0 else (\"동일\" if data[\"일반 점포수 외식업 패스트푸드 변화율\"] == 0 else \"감소\")}했다.\n",
    "\n",
    "패스트푸드 신생기업 1년 생존율은 {\"높은편\" if data[\"2022 신생기업 1년 생존율 외식업 패스트푸드\"] >= 70 else (\"보통인편\" if data[\"2022 신생기업 1년 생존율 외식업 패스트푸드\"] >= 30 else \"낮은편\")}이다.\n",
    "패스트푸드 신생기업 3년 생존율은 {\"높은편\" if data[\"2022 신생기업 3년 생존율 외식업 패스트푸드\"] >= 70 else (\"보통인편\" if data[\"2022 신생기업 3년 생존율 외식업 패스트푸드\"] >= 30 else \"낮은편\")}이다.\n",
    "패스트푸드 신생기업 5년 생존율은 {\"높은편\" if data[\"2022 신생기업 5년 생존율 외식업 패스트푸드\"] >= 70 else (\"보통인편\" if data[\"2022 신생기업 5년 생존율 외식업 패스트푸드\"] >= 30 else \"낮은편\")}이다.\n",
    "패스트푸드 최근 10년기준 평균 영업기간은 {\"긴 편\" if data[\"2022 최근 10년기준 외식업 패스트푸드 등급\"] <= 20 else (\"보통인편\" if data[\"2022 최근 10년기준 외식업 패스트푸드 등급\"] <= 70 else \"짧은편\")}이다.\n",
    "\n",
    "패스트푸드 개업율은 {data[\"2022 개업률 외식업 패스트푸드\"]}%로 서울 행정동내에서 {\"높은편\" if data[\"2022 개업률 외식업 패스트푸드 등급\"] <= 20 else (\"보통인편\" if data[\"2022 개업률 외식업 패스트푸드 등급\"] <= 70 else \"낮은편\")}이다.\n",
    "패스트푸드 폐업율은 {data[\"2022 폐업률 외식업 패스트푸드\"]}%로 서울 행정동내에서 {\"높은편\" if data[\"2022 폐업률 외식업 패스트푸드 등급\"] <= 20 else (\"보통인편\" if data[\"2022 폐업률 외식업 패스트푸드 등급\"] <= 70 else \"낮은편\")}이다.\n",
    "\n",
    "커피-음료 전체 점포수는 {data[\"2022 전체 점포수 외식업 커피-음료\"]}개로 서울 행정동내에서 {\"많은편\" if data[\"2022 전체 점포수 외식업 커피-음료 등급\"] <= 20 else (\"보통인편\" if data[\"2022 전체 점포수 외식업 커피-음료 등급\"] <= 70 else \"적은편\")}이며, 작년 대비 {abs(data[\"전체 점포수 외식업 커피-음료 변화율\"])}개 {\"증가\" if data[\"전체 점포수 외식업 커피-음료 변화율\"] > 0 else (\"동일\" if data[\"전체 점포수 외식업 커피-음료 변화율\"] == 0 else \"감소\")}했다.\n",
    "커피-음료 프렌차이점 개수는 {data[\"2022 프렌차이즈 점포수 외식업 커피-음료\"]}개로 서울 행정동내에서 {\"많은편\" if data[\"2022 프렌차이즈 점포수 외식업 커피-음료 등급\"] <= 20 else (\"보통인편\" if data[\"2022 프렌차이즈 점포수 외식업 커피-음료 등급\"] <= 70 else \"적은편\")}이며, 작년 대비 {abs(data[\"프렌차이즈 점포수 외식업 커피-음료 변화율\"])}개 {\"증가\" if data[\"프렌차이즈 점포수 외식업 커피-음료 변화율\"] > 0 else (\"동일\" if data[\"프렌차이즈 점포수 외식업 커피-음료 변화율\"] == 0 else \"감소\")}했다.\n",
    "커피-음료 일반 점포수는 {data[\"2022 일반 점포수 외식업 커피-음료\"]}개로 서울 행정동내에서 {\"많은편\" if data[\"2022 일반 점포수 외식업 커피-음료 등급\"] <= 20 else (\"보통인편\" if data[\"2022 일반 점포수 외식업 커피-음료 등급\"] <= 70 else \"적은편\")}이며, 작년 대비 {abs(data[\"일반 점포수 외식업 커피-음료 변화율\"])}개 {\"증가\" if data[\"일반 점포수 외식업 커피-음료 변화율\"] > 0 else (\"동일\" if data[\"일반 점포수 외식업 커피-음료 변화율\"] == 0 else \"감소\")}했다.\n",
    "\n",
    "커피-음료 신생기업 1년 생존율은 {\"높은편\" if data[\"2022 신생기업 1년 생존율 외식업 커피-음료\"] >= 70 else (\"보통인편\" if data[\"2022 신생기업 1년 생존율 외식업 커피-음료\"] >= 30 else \"낮은편\")}이다.\n",
    "커피-음료 신생기업 3년 생존율은 {\"높은편\" if data[\"2022 신생기업 3년 생존율 외식업 커피-음료\"] >= 70 else (\"보통인편\" if data[\"2022 신생기업 3년 생존율 외식업 커피-음료\"] >= 30 else \"낮은편\")}이다.\n",
    "커피-음료 신생기업 5년 생존율은 {\"높은편\" if data[\"2022 신생기업 5년 생존율 외식업 커피-음료\"] >= 70 else (\"보통인편\" if data[\"2022 신생기업 5년 생존율 외식업 커피-음료\"] >= 30 else \"낮은편\")}이다.\n",
    "커피-음료 최근 10년기준 평균 영업기간은 {\"긴 편\" if data[\"2022 최근 10년기준 외식업 커피-음료 등급\"] <= 20 else (\"보통인편\" if data[\"2022 최근 10년기준 외식업 커피-음료 등급\"] <= 70 else \"짧은편\")}이다.\n",
    "\n",
    "커피-음료 개업율은 {data[\"2022 개업률 외식업 커피-음료\"]}%로 서울 행정동내에서 {\"높은편\" if data[\"2022 개업률 외식업 커피-음료 등급\"] <= 20 else (\"보통인편\" if data[\"2022 개업률 외식업 커피-음료 등급\"] <= 70 else \"낮은편\")}이다.\n",
    "커피-음료 폐업율은 {data[\"2022 폐업률 외식업 커피-음료\"]}%로 서울 행정동내에서 {\"높은편\" if data[\"2022 폐업률 외식업 커피-음료 등급\"] <= 20 else (\"보통인편\" if data[\"2022 폐업률 외식업 커피-음료 등급\"] <= 70 else \"낮은편\")}이다.\n",
    "\n",
    "다음과 같은 특징을 바탕으로 먼저 해당 지역을 대표할만한 별명을 작명해주고 그 아래에 별명 대한 설명을 스토리 형식으로 자세하게 설명해줘.\n",
    "\"\"\"\n",
    "    return prompt\n",
    "\n",
    "def make_retail_store_prompt(data):\n",
    "    prompt = f\"\"\"너는 대한민국 상권 또는 지역에 대해 10년 이상 분석을 했다. 모든 지역에 대한 정보와 특징을 알고 있는 상태이다.\n",
    "\n",
    "{data[\"시군구\"]} {data[\"행정구역\"]}의 소매업 특징은 다음과 같다.\n",
    "\n",
    "편의점 전체 점포수는 {data[\"2022 전체 점포수 소매업 편의점\"]}개로 서울 행정동내에서 {\"많은편\" if data[\"2022 전체 점포수 소매업 편의점 등급\"] <= 20 else (\"보통인편\" if data[\"2022 전체 점포수 소매업 편의점 등급\"] <= 70 else \"적은편\")}이며, 작년 대비 {abs(data[\"전체 점포수 소매업 편의점 변화율\"])}개 {\"증가\" if data[\"전체 점포수 소매업 편의점 변화율\"] > 0 else (\"동일\" if data[\"전체 점포수 소매업 편의점 변화율\"] == 0 else \"감소\")}했다.\n",
    "편의점 프렌차이점 개수는 {data[\"2022 프렌차이즈 점포수 소매업 편의점\"]}개로 서울 행정동내에서 {\"많은편\" if data[\"2022 프렌차이즈 점포수 소매업 편의점 등급\"] <= 20 else (\"보통인편\" if data[\"2022 프렌차이즈 점포수 소매업 편의점 등급\"] <= 70 else \"적은편\")}이며, 작년 대비 {abs(data[\"프렌차이즈 점포수 소매업 편의점 변화율\"])}개 {\"증가\" if data[\"프렌차이즈 점포수 소매업 편의점 변화율\"] > 0 else (\"동일\" if data[\"프렌차이즈 점포수 소매업 편의점 변화율\"] == 0 else \"감소\")}했다.\n",
    "편의점 일반 점포수는 {data[\"2022 일반 점포수 소매업 편의점\"]}개로 서울 행정동내에서 {\"많은편\" if data[\"2022 일반 점포수 소매업 편의점 등급\"] <= 20 else (\"보통인편\" if data[\"2022 일반 점포수 소매업 편의점 등급\"] <= 70 else \"적은편\")}이며, 작년 대비 {abs(data[\"일반 점포수 소매업 편의점 변화율\"])}개 {\"증가\" if data[\"일반 점포수 소매업 편의점 변화율\"] > 0 else (\"동일\" if data[\"일반 점포수 소매업 편의점 변화율\"] == 0 else \"감소\")}했다.\n",
    "\n",
    "편의점 신생기업 1년 생존율은 {\"높은편\" if data[\"2022 신생기업 1년 생존율 소매업 편의점\"] >= 70 else (\"보통인편\" if data[\"2022 신생기업 1년 생존율 소매업 편의점\"] >= 30 else \"낮은편\")}이다.\n",
    "편의점 신생기업 3년 생존율은 {\"높은편\" if data[\"2022 신생기업 3년 생존율 소매업 편의점\"] >= 70 else (\"보통인편\" if data[\"2022 신생기업 3년 생존율 소매업 편의점\"] >= 30 else \"낮은편\")}이다.\n",
    "편의점 신생기업 5년 생존율은 {\"높은편\" if data[\"2022 신생기업 5년 생존율 소매업 편의점\"] >= 70 else (\"보통인편\" if data[\"2022 신생기업 5년 생존율 소매업 편의점\"] >= 30 else \"낮은편\")}이다.\n",
    "편의점 최근 10년기준 평균 영업기간은 {\"긴 편\" if data[\"2022 최근 10년기준 소매업 편의점 등급\"] <= 20 else (\"보통인편\" if data[\"2022 최근 10년기준 소매업 편의점 등급\"] <= 70 else \"짧은편\")}이다.\n",
    "\n",
    "편의점 개업율은 {data[\"2022 개업률 소매업 편의점\"]}%로 서울 행정동내에서 {\"높은편\" if data[\"2022 개업률 소매업 편의점 등급\"] <= 20 else (\"보통인편\" if data[\"2022 개업률 소매업 편의점 등급\"] <= 70 else \"낮은편\")}이다.\n",
    "편의점 폐업율은 {data[\"2022 폐업률 소매업 편의점\"]}%로 서울 행정동내에서 {\"높은편\" if data[\"2022 폐업률 소매업 편의점 등급\"] <= 20 else (\"보통인편\" if data[\"2022 폐업률 소매업 편의점 등급\"] <= 70 else \"낮은편\")}이다.\n",
    "\n",
    "주유소 전체 점포수는 {data[\"2022 전체 점포수 소매업 주유소\"]}개로 서울 행정동내에서 {\"많은편\" if data[\"2022 전체 점포수 소매업 주유소 등급\"] <= 20 else (\"보통인편\" if data[\"2022 전체 점포수 소매업 주유소 등급\"] <= 70 else \"적은편\")}이며, 작년 대비 {abs(data[\"전체 점포수 소매업 주유소 변화율\"])}개 {\"증가\" if data[\"전체 점포수 소매업 주유소 변화율\"] > 0 else (\"동일\" if data[\"전체 점포수 소매업 주유소 변화율\"] == 0 else \"감소\")}했다.\n",
    "주유소 프렌차이점 개수는 {data[\"2022 프렌차이즈 점포수 소매업 주유소\"]}개로 서울 행정동내에서 {\"많은편\" if data[\"2022 프렌차이즈 점포수 소매업 주유소 등급\"] <= 20 else (\"보통인편\" if data[\"2022 프렌차이즈 점포수 소매업 주유소 등급\"] <= 70 else \"적은편\")}이며, 작년 대비 {abs(data[\"프렌차이즈 점포수 소매업 주유소 변화율\"])}개 {\"증가\" if data[\"프렌차이즈 점포수 소매업 주유소 변화율\"] > 0 else (\"동일\" if data[\"프렌차이즈 점포수 소매업 주유소 변화율\"] == 0 else \"감소\")}했다.\n",
    "주유소 일반 점포수는 {data[\"2022 일반 점포수 소매업 주유소\"]}개로 서울 행정동내에서 {\"많은편\" if data[\"2022 일반 점포수 소매업 주유소 등급\"] <= 20 else (\"보통인편\" if data[\"2022 일반 점포수 소매업 주유소 등급\"] <= 70 else \"적은편\")}이며, 작년 대비 {abs(data[\"일반 점포수 소매업 주유소 변화율\"])}개 {\"증가\" if data[\"일반 점포수 소매업 주유소 변화율\"] > 0 else (\"동일\" if data[\"일반 점포수 소매업 주유소 변화율\"] == 0 else \"감소\")}했다.\n",
    "\n",
    "주유소 신생기업 1년 생존율은 {\"높은편\" if data[\"2022 신생기업 1년 생존율 소매업 주유소\"] >= 70 else (\"보통인편\" if data[\"2022 신생기업 1년 생존율 소매업 주유소\"] >= 30 else \"낮은편\")}이다.\n",
    "주유소 신생기업 3년 생존율은 {\"높은편\" if data[\"2022 신생기업 3년 생존율 소매업 주유소\"] >= 70 else (\"보통인편\" if data[\"2022 신생기업 3년 생존율 소매업 주유소\"] >= 30 else \"낮은편\")}이다.\n",
    "주유소 신생기업 5년 생존율은 {\"높은편\" if data[\"2022 신생기업 5년 생존율 소매업 주유소\"] >= 70 else (\"보통인편\" if data[\"2022 신생기업 5년 생존율 소매업 주유소\"] >= 30 else \"낮은편\")}이다.\n",
    "주유소 최근 10년기준 평균 영업기간은 {\"긴 편\" if data[\"2022 최근 10년기준 소매업 주유소 등급\"] <= 20 else (\"보통인편\" if data[\"2022 최근 10년기준 소매업 주유소 등급\"] <= 70 else \"짧은편\")}이다.\n",
    "\n",
    "주유소 개업율은 {data[\"2022 개업률 소매업 주유소\"]}%로 서울 행정동내에서 {\"높은편\" if data[\"2022 개업률 소매업 주유소 등급\"] <= 20 else (\"보통인편\" if data[\"2022 개업률 소매업 주유소 등급\"] <= 70 else \"낮은편\")}이다.\n",
    "주유소 폐업율은 {data[\"2022 폐업률 소매업 주유소\"]}%로 서울 행정동내에서 {\"높은편\" if data[\"2022 폐업률 소매업 주유소 등급\"] <= 20 else (\"보통인편\" if data[\"2022 폐업률 소매업 주유소 등급\"] <= 70 else \"낮은편\")}이다.\n",
    "\n",
    "다음과 같은 특징을 바탕으로 먼저 해당 지역을 대표할만한 별명을 작명해주고 그 아래에 별명 대한 설명을 스토리 형식으로 자세하게 설명해줘.\"\"\"\n",
    "    return prompt\n",
    "\n",
    "def make_population_prompt(data):\n",
    "    prompt = f\"\"\"너는 대한민국 상권 또는 지역에 대해 10년 이상 분석을 했다. 모든 지역에 대한 정보와 특징을 알고 있는 상태이다.\n",
    "\n",
    "{data[\"시군구\"]} {data[\"행정구역\"]}의 특징은 다음과 같다.\n",
    "\n",
    "길단위 유동인구 수는 약 {round(data[\"2022 길단위 유동인구\"], 3)}명이며, 서울 행정동내에서 {\"많은편\" if data[\"2022 길단위 유동인구 등급\"] <= 20 else (\"보통인편\" if data[\"2022 길단위 유동인구 등급\"] <= 70 else \"적은편\")}이다.\n",
    "주거인구 수는 약 {round(data[\"2022 주거인구\"], 3)}명이며, 서울 행정동내에서 {\"많은편\" if data[\"2022 주거인구 등급\"] <= 20 else (\"보통인편\" if data[\"2022 주거인구 등급\"] <= 70 else \"적은편\")}이다.\n",
    "직장인구 수는 약 {round(data[\"2022 직장인구\"], 3)}명이며, 서울 행정동내에서 {\"많은편\" if data[\"2022 직장인구 등급\"] <= 20 else (\"보통인편\" if data[\"2022 직장인구 등급\"] <= 70 else \"적은편\")}이다.\n",
    "\n",
    "소득분위는 {data[\"2022 소득분위\"].split(\":\")[0]}로 {data[\"2022 소득분위\"].split(\":\")[1]}사이이다.\n",
    "가구수는 {data[\"2022 가구수\"]}이며 서울 행정동내에서 {\"많은편\" if data[\"2022 가구수 등급\"] <= 20 else (\"보통인편\" if data[\"2022 가구수 등급\"] <= 70 else \"적은편\")}이다.\n",
    "\n",
    "1평당 월 임대시세는 서울 행정동내에서 {\"높은편\" if data[\"2022 환산임대료 전체 등급\"] <= 20 else (\"보통인편\" if data[\"2022 환산임대료 전체 등급\"] <= 70 else \"낮은편\")}이다.\n",
    "직년 대비 1평당 월 임대시세는 {abs(data[\"환산임대료 전체 변화율\"])}% {\"증가\" if data[\"환산임대료 전체 변화율\"] >= 0 else \"감소\"}했다.\n",
    "\n",
    "다음과 같은 특징을 바탕으로 먼저 해당 지역을 대표할만한 별명을 작명해주고 그 아래에 별명 대한 설명을 스토리 형식으로 자세하게 설명해줘.\"\"\"\n",
    "    \n",
    "    return prompt\n",
    "\n",
    "def make_total_story_prompt(data):\n",
    "    prompt = f\"\"\"너는 대한민국 상권 또는 지역에 대해 10년 이상 분석을 했다. 모든 지역에 대한 정보와 특징을 알고 있는 상태이다.\n",
    "\n",
    "{data[\"시군구\"]} {data[\"행정구역\"]}의 특징은 다음과 같다.\n",
    "\n",
    "{data[\"population_story\"]}\n",
    "\n",
    "{data[\"food_store_story\"]}\n",
    "\n",
    "{data[\"retail_store_story\"]}\n",
    "\n",
    "해당 지역의 특징이 다음과 같을때 해당 지역을 대표할만한 별명을 작명해주고 그 아래에 별명 대한 설명을 스토리 형식으로 자세하게 설명해줘.\"\"\"\n",
    "    \n",
    "    return prompt"
   ]
  },
  {
   "cell_type": "code",
   "execution_count": 9,
   "metadata": {},
   "outputs": [],
   "source": [
    "prompt_df[\"food_store_prompt\"] = df.apply(make_food_store_prompt, axis=1)\n",
    "prompt_df[\"retail_store_prompt\"] = df.apply(make_retail_store_prompt, axis=1)\n",
    "prompt_df[\"population_prompt\"] = df.apply(make_population_prompt, axis=1)"
   ]
  },
  {
   "cell_type": "code",
   "execution_count": 22,
   "metadata": {},
   "outputs": [],
   "source": [
    "def get_hashtag(prompt):\n",
    "    model = \"gpt-3.5-turbo\"\n",
    "    messages = [\n",
    "        {\"role\": \"user\", \"content\": prompt},\n",
    "    ]\n",
    "    time.sleep(30)\n",
    "    response = openai.ChatCompletion.create(model=model, messages=messages)\n",
    "    return response[\"choices\"][0][\"message\"][\"content\"]"
   ]
  },
  {
   "cell_type": "code",
   "execution_count": 106,
   "metadata": {},
   "outputs": [
    {
     "name": "stderr",
     "output_type": "stream",
     "text": [
      "100%|██████████| 6/6 [04:20<00:00, 43.36s/it]\n",
      "100%|██████████| 6/6 [04:23<00:00, 43.97s/it]\n",
      "100%|██████████| 6/6 [04:25<00:00, 44.29s/it]\n"
     ]
    }
   ],
   "source": [
    "prompt_df[\"food_store_story\"] = prompt_df[\"food_store_prompt\"].progress_apply(get_hashtag)\n",
    "prompt_df[\"retail_store_story\"] = prompt_df[\"retail_store_prompt\"].progress_apply(get_hashtag)\n",
    "prompt_df[\"population_story\"] = prompt_df[\"population_prompt\"].progress_apply(get_hashtag)"
   ]
  },
  {
   "cell_type": "code",
   "execution_count": 18,
   "metadata": {},
   "outputs": [
    {
     "data": {
      "text/plain": [
       "Index(['시군구', '행정구역', 'food_store_prompt', 'retail_store_prompt',\n",
       "       'population_prompt', 'food_store_story', 'retail_store_story',\n",
       "       'population_story'],\n",
       "      dtype='object')"
      ]
     },
     "execution_count": 18,
     "metadata": {},
     "output_type": "execute_result"
    }
   ],
   "source": [
    "prompt_df.columns"
   ]
  },
  {
   "cell_type": "code",
   "execution_count": 20,
   "metadata": {},
   "outputs": [],
   "source": [
    "prompt_df[\"total_story_prompt\"] = prompt_df.apply(make_total_story_prompt, axis=1)"
   ]
  },
  {
   "cell_type": "code",
   "execution_count": 26,
   "metadata": {},
   "outputs": [
    {
     "name": "stderr",
     "output_type": "stream",
     "text": [
      "100%|██████████| 6/6 [04:03<00:00, 40.56s/it]\n"
     ]
    }
   ],
   "source": [
    "prompt_df[\"total_story\"] = prompt_df[\"total_story_prompt\"].progress_apply(get_hashtag)"
   ]
  },
  {
   "cell_type": "code",
   "execution_count": 27,
   "metadata": {},
   "outputs": [],
   "source": [
    "prompt_df.to_csv(\"data/prompt_story.csv\",index=False)"
   ]
  },
  {
   "cell_type": "code",
   "execution_count": null,
   "metadata": {},
   "outputs": [],
   "source": []
  }
 ],
 "metadata": {
  "kernelspec": {
   "display_name": "Python 3",
   "language": "python",
   "name": "python3"
  },
  "language_info": {
   "codemirror_mode": {
    "name": "ipython",
    "version": 3
   },
   "file_extension": ".py",
   "mimetype": "text/x-python",
   "name": "python",
   "nbconvert_exporter": "python",
   "pygments_lexer": "ipython3",
   "version": "3.8.6"
  }
 },
 "nbformat": 4,
 "nbformat_minor": 5
}
