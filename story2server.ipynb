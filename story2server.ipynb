{
 "cells": [
  {
   "cell_type": "code",
   "execution_count": 1,
   "metadata": {},
   "outputs": [],
   "source": [
    "import pandas as pd"
   ]
  },
  {
   "cell_type": "code",
   "execution_count": 22,
   "metadata": {},
   "outputs": [],
   "source": [
    "adm_code = pd.read_excel(\"data/adm_code.xls\", header=1).astype(str)\n",
    "adm_code[\"행정동코드\"] = adm_code[\"시도코드\"] + adm_code[\"시군구코드\"] + adm_code[\"읍면동코드\"]"
   ]
  },
  {
   "cell_type": "code",
   "execution_count": 19,
   "metadata": {},
   "outputs": [],
   "source": [
    "story = pd.read_csv(\"data/prompt_story.csv\")"
   ]
  },
  {
   "cell_type": "code",
   "execution_count": 27,
   "metadata": {},
   "outputs": [],
   "source": [
    "result = pd.merge(adm_code[[\"행정동코드\", \"시군구명칭\", \"읍면동명칭\"]], story,\n",
    "                  left_on=[\"시군구명칭\", \"읍면동명칭\"],\n",
    "                  right_on=[\"시군구\", \"행정구역\"])"
   ]
  },
  {
   "cell_type": "code",
   "execution_count": 29,
   "metadata": {},
   "outputs": [],
   "source": [
    "result[[\"행정동코드\", \"시군구\", \"행정구역\", \"total_story\", \"population_story\", \"food_store_story\", \"retail_store_story\"]].to_csv(\"data/result.csv\", index=False)"
   ]
  },
  {
   "cell_type": "code",
   "execution_count": null,
   "metadata": {},
   "outputs": [],
   "source": []
  }
 ],
 "metadata": {
  "kernelspec": {
   "display_name": "Python 3",
   "language": "python",
   "name": "python3"
  },
  "language_info": {
   "codemirror_mode": {
    "name": "ipython",
    "version": 3
   },
   "file_extension": ".py",
   "mimetype": "text/x-python",
   "name": "python",
   "nbconvert_exporter": "python",
   "pygments_lexer": "ipython3",
   "version": "3.8.6"
  }
 },
 "nbformat": 4,
 "nbformat_minor": 4
}
