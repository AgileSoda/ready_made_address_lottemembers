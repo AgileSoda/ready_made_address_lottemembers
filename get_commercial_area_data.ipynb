{
 "cells": [
  {
   "cell_type": "code",
   "execution_count": 1,
   "metadata": {},
   "outputs": [],
   "source": [
    "import requests\n",
    "import pandas as pd"
   ]
  },
  {
   "cell_type": "code",
   "execution_count": 2,
   "metadata": {},
   "outputs": [],
   "source": [
    "industry = {\n",
    "    (\"CS000000\", \"외식업\"): [(\"CS100006\", \"패스트푸드\"), (\"CS100010\", \"커피-음료\")],\n",
    "    (\"CS300000\", \"소매업\"): [(\"CS300002\", \"편의점\"), (\"CS300042\", \"주유소\")],\n",
    "}\n",
    "\n",
    "category_info = [\n",
    "    # 점포수\n",
    "    (\"https://golmok.seoul.go.kr/region/selectStoreCount.json\",\n",
    "     \"store\",\n",
    "    [\"행정구역\", \"행정구역코드\", \"구분\", \"2020 전체 점포수\", \"2020 프렌차이즈 점포수\", \"2020 일반 점포수\", \"2021 전체 점포수\", \"2021 프렌차이즈 점포수\", \"2021 일반 점포수\", \"2022 전체 점포수\", \"2022 프렌차이즈 점포수\", \"2022 일반 점포수\"]),\n",
    "    \n",
    "    # 신생기업 생존율\n",
    "    (\"https://golmok.seoul.go.kr/region/selectSurvivalRate.json\",\n",
    "     \"survival\",\n",
    "    [\"행정구역코드\", \"행정구역\", \"구분\", \"2020 신생기업 1년 생존율\", \"2020 신생기업 3년 생존율\", \"2020 신생기업 5년 생존율\", \"2021 신생기업 1년 생존율\", \"2021 신생기업 3년 생존율\", \"2021 신생기업 5년 생존율\", \"2022 신생기업 1년 생존율\", \"2022 신생기업 3년 생존율\", \"2022 신생기업 5년 생존율\"]),\n",
    "    \n",
    "    # 연차별 생존율\n",
    "    (\"https://golmok.seoul.go.kr/region/selectSurvivalRate2.json\",\n",
    "     \"survival2\",\n",
    "    [\"행정구역코드\", \"행정구역\", \"구분\", \"2020 1년 생존율\", \"2020 3년 생존율\", \"2020 5년 생존율\", \"2021 1년 생존율\", \"2021 3년 생존율\", \"2021 5년 생존율\", \"2022 1년 생존율\", \"2022 3년 생존율\", \"2022 5년 생존율\"]),\n",
    "    \n",
    "    # 평균영업기간\n",
    "    (\"https://golmok.seoul.go.kr/region/selectSurvivalAvg.json\",\n",
    "     \"operatingPeriod\",\n",
    "    [\"행정구역\", \"행정구역코드\", \"구분\", \"2020 최근 10년기준\", \"2020 최근 30년기준\", \"2021 최근 10년기준\", \"2021 최근 30년기준\", \"2022 최근 10년기준\", \"2022 최근 30년기준\"]),\n",
    "    \n",
    "    # 개폐업수(률)\n",
    "    (\"https://golmok.seoul.go.kr/region/selectOpening.json\",\n",
    "     \"opening\",\n",
    "    [\"행정구역\", \"행정구역코드\", \"구분\", \"2020 개업수\", \"2020 폐업수\", \"2020 개업률\", \"2020 폐업률\", \"2021 개업수\", \"2021 폐업수\", \"2021 개업률\", \"2021 폐업률\", \"2022 개업수\", \"2022 폐업수\", \"2022 개업률\", \"2022 폐업률\"]),\n",
    "]"
   ]
  },
  {
   "cell_type": "code",
   "execution_count": 3,
   "metadata": {},
   "outputs": [
    {
     "name": "stdout",
     "output_type": "stream",
     "text": [
      "https://golmok.seoul.go.kr/region/selectStoreCount.json store CS000000 외식업 CS100006 패스트푸드\n",
      "https://golmok.seoul.go.kr/region/selectStoreCount.json store CS000000 외식업 CS100010 커피-음료\n",
      "https://golmok.seoul.go.kr/region/selectStoreCount.json store CS300000 소매업 CS300002 편의점\n",
      "https://golmok.seoul.go.kr/region/selectStoreCount.json store CS300000 소매업 CS300042 주유소\n",
      "https://golmok.seoul.go.kr/region/selectSurvivalRate.json survival CS000000 외식업 CS100006 패스트푸드\n",
      "https://golmok.seoul.go.kr/region/selectSurvivalRate.json survival CS000000 외식업 CS100010 커피-음료\n",
      "https://golmok.seoul.go.kr/region/selectSurvivalRate.json survival CS300000 소매업 CS300002 편의점\n",
      "https://golmok.seoul.go.kr/region/selectSurvivalRate.json survival CS300000 소매업 CS300042 주유소\n",
      "https://golmok.seoul.go.kr/region/selectSurvivalRate2.json survival2 CS000000 외식업 CS100006 패스트푸드\n",
      "https://golmok.seoul.go.kr/region/selectSurvivalRate2.json survival2 CS000000 외식업 CS100010 커피-음료\n",
      "https://golmok.seoul.go.kr/region/selectSurvivalRate2.json survival2 CS300000 소매업 CS300002 편의점\n",
      "https://golmok.seoul.go.kr/region/selectSurvivalRate2.json survival2 CS300000 소매업 CS300042 주유소\n",
      "https://golmok.seoul.go.kr/region/selectSurvivalAvg.json operatingPeriod CS000000 외식업 CS100006 패스트푸드\n",
      "https://golmok.seoul.go.kr/region/selectSurvivalAvg.json operatingPeriod CS000000 외식업 CS100010 커피-음료\n",
      "https://golmok.seoul.go.kr/region/selectSurvivalAvg.json operatingPeriod CS300000 소매업 CS300002 편의점\n",
      "https://golmok.seoul.go.kr/region/selectSurvivalAvg.json operatingPeriod CS300000 소매업 CS300042 주유소\n",
      "https://golmok.seoul.go.kr/region/selectOpening.json opening CS000000 외식업 CS100006 패스트푸드\n",
      "https://golmok.seoul.go.kr/region/selectOpening.json opening CS000000 외식업 CS100010 커피-음료\n",
      "https://golmok.seoul.go.kr/region/selectOpening.json opening CS300000 소매업 CS300002 편의점\n",
      "https://golmok.seoul.go.kr/region/selectOpening.json opening CS300000 소매업 CS300042 주유소\n"
     ]
    }
   ],
   "source": [
    "is_first = True\n",
    "\n",
    "for url, category, columns in category_info:\n",
    "    for industry_large, industry_large_name in industry.keys():\n",
    "        for industry_medium, industry_medium_name in industry[(industry_large, industry_large_name)]:\n",
    "            print(url, category, industry_large, industry_large_name, industry_medium, industry_medium_name)\n",
    "\n",
    "            params = {\n",
    "                \"stdrYyCd\": \"2022\",\n",
    "                \"stdrSlctQu\": \"sameQu\",\n",
    "                \"stdrQuCd\": \"4\",\n",
    "                \"stdrMnCd\": \"202212\",\n",
    "                \"selectTerm\": \"quarter\",\n",
    "                \"svcIndutyCdL\": industry_large,\n",
    "                \"svcIndutyCdM\": industry_medium,\n",
    "                \"stdrSigngu\": \"11\",\n",
    "                \"selectInduty\": \"1\",\n",
    "                \"infoCategory\": category\n",
    "            }\n",
    "\n",
    "            tmp_data = requests.post(url,params=params,headers={'User-Agent':'Mozilla/5.0'}).json()\n",
    "            \n",
    "            if len(tmp_data[0].keys()) == len(columns):\n",
    "                tmp_df = pd.DataFrame([list(i.values()) for i in tmp_data])\n",
    "                tmp_df.columns = columns[:3] + [\" \".join([c, industry_large_name, industry_medium_name]) for c in columns[3:]]\n",
    "            else:\n",
    "                tmp_columns = [k for k in tmp_data[0].keys() if len(k.split(\"_\")) < 3]\n",
    "                tmp_df = pd.DataFrame([list(i.values()) for i in tmp_data], columns=tmp_data[0])[tmp_columns]\n",
    "                tmp_df.columns = columns[:3] + [\" \".join([c, industry_large_name, industry_medium_name]) for c in columns[3:]]\n",
    "                \n",
    "            if is_first:\n",
    "                df = tmp_df.copy()\n",
    "                is_first = False\n",
    "            else:\n",
    "                df = pd.merge(df, tmp_df, on=[\"행정구역\", \"행정구역코드\", \"구분\"])"
   ]
  },
  {
   "cell_type": "code",
   "execution_count": 4,
   "metadata": {},
   "outputs": [],
   "source": [
    "category_info = [\n",
    "    # 소득/가구수\n",
    "    (\"https://golmok.seoul.go.kr/region/selectIncome.json\",\n",
    "     \"income\",\n",
    "    [\"행정구역\", \"행정구역코드\", \"구분\", \"2020 소득분위\", \"2020 가구수\", \"2021 소득분위\", \"2021 가구수\", \"2022 소득분위\", \"2022 가구수\"]),\n",
    "    \n",
    "    # 임대시세\n",
    "    (\"https://golmok.seoul.go.kr/region/selectRentalPrice.json\",\n",
    "     \"rent\",\n",
    "    [\"행정구역코드\", \"행정구역\", \"구분\", \"2020 환산임대료 전체\", \"2020 환산임대료 1층\", \"2020 환산임대료 1층 외\", \"2021 환산임대료 전체\", \"2021 환산임대료 1층\", \"2021 환산임대료 1층 외\", \"2022 환산임대료 전체\", \"2022 환산임대료 1층\", \"2022 환산임대료 1층 외\"]),\n",
    "]"
   ]
  },
  {
   "cell_type": "code",
   "execution_count": 5,
   "metadata": {},
   "outputs": [
    {
     "name": "stdout",
     "output_type": "stream",
     "text": [
      "https://golmok.seoul.go.kr/region/selectIncome.json income\n",
      "https://golmok.seoul.go.kr/region/selectRentalPrice.json rent\n"
     ]
    }
   ],
   "source": [
    "is_first = True\n",
    "\n",
    "for url, category, columns in category_info:\n",
    "    print(url, category)\n",
    "    \n",
    "    params = {\n",
    "        \"stdrYyCd\": \"2022\",\n",
    "        \"stdrSlctQu\": \"sameQu\",\n",
    "        \"stdrQuCd\": \"4\",\n",
    "        \"stdrMnCd\": \"202212\",\n",
    "        \"selectTerm\": \"quarter\",\n",
    "        \"stdrSigngu\": \"11\",\n",
    "        \"selectInduty\": \"1\",\n",
    "        \"infoCategory\": category\n",
    "    }\n",
    "\n",
    "    tmp_data = requests.post(url,params=params,headers={'User-Agent':'Mozilla/5.0'}).json()\n",
    "\n",
    "    tmp_df = pd.DataFrame([list(i.values()) for i in tmp_data])\n",
    "    tmp_df.columns = columns[:3] + [\" \".join([c]) for c in columns[3:]]\n",
    "\n",
    "    df = pd.merge(df, tmp_df, on=[\"행정구역\", \"행정구역코드\", \"구분\"])"
   ]
  },
  {
   "cell_type": "code",
   "execution_count": 6,
   "metadata": {},
   "outputs": [],
   "source": [
    "df.to_csv(\"data/commercial_area.csv\", index=False)"
   ]
  },
  {
   "cell_type": "code",
   "execution_count": null,
   "metadata": {},
   "outputs": [],
   "source": []
  }
 ],
 "metadata": {
  "kernelspec": {
   "display_name": "justtype",
   "language": "python",
   "name": "justtype"
  },
  "language_info": {
   "codemirror_mode": {
    "name": "ipython",
    "version": 3
   },
   "file_extension": ".py",
   "mimetype": "text/x-python",
   "name": "python",
   "nbconvert_exporter": "python",
   "pygments_lexer": "ipython3",
   "version": "3.9.16"
  }
 },
 "nbformat": 4,
 "nbformat_minor": 4
}
