{
 "cells": [
  {
   "cell_type": "code",
   "execution_count": 1,
   "metadata": {
    "tags": []
   },
   "outputs": [
    {
     "name": "stderr",
     "output_type": "stream",
     "text": [
      "/opt/conda/envs/justtype/lib/python3.9/site-packages/tqdm/auto.py:21: TqdmWarning: IProgress not found. Please update jupyter and ipywidgets. See https://ipywidgets.readthedocs.io/en/stable/user_install.html\n",
      "  from .autonotebook import tqdm as notebook_tqdm\n"
     ]
    }
   ],
   "source": [
    "import pandas as pd\n",
    "import openai\n",
    "import time\n",
    "from tqdm import tqdm\n",
    "from sentence_transformers import SentenceTransformer, util\n",
    "import numpy as np\n",
    "\n",
    "embedder = SentenceTransformer(\"jhgan/ko-sroberta-multitask\")\n",
    "\n",
    "tqdm.pandas()"
   ]
  },
  {
   "cell_type": "code",
   "execution_count": 2,
   "metadata": {
    "tags": []
   },
   "outputs": [],
   "source": [
    "OPENAI_API_KEY = \"\"\n",
    "openai.api_key = OPENAI_API_KEY"
   ]
  },
  {
   "cell_type": "code",
   "execution_count": 4,
   "metadata": {
    "tags": []
   },
   "outputs": [],
   "source": [
    "def get_story(prompt):\n",
    "    model = \"gpt-3.5-turbo\"\n",
    "    messages = [\n",
    "        {\"role\": \"user\", \"content\": example_prompt},\n",
    "        {\"role\": \"assistant\", \"content\": example},\n",
    "        {\"role\": \"user\", \"content\": prompt},\n",
    "    ]\n",
    "    response = openai.ChatCompletion.create(model=model, \n",
    "                                            messages=messages,\n",
    "                                            top_p=1)\n",
    "    return response[\"choices\"][0][\"message\"][\"content\"]"
   ]
  },
  {
   "cell_type": "code",
   "execution_count": 45,
   "metadata": {
    "tags": []
   },
   "outputs": [],
   "source": [
    "prompt = \"\"\"골프 브랜드 ‘UTAA' 브랜드 입점을 위한 적합한 지점 추천\"\"\""
   ]
  },
  {
   "cell_type": "code",
   "execution_count": 46,
   "metadata": {
    "tags": []
   },
   "outputs": [],
   "source": [
    "txt = f\"\"\"[역할] : \n",
    "너는 백화점 운영을 10년 이상 해왔다. 각 상권별로 유동인구, 소비 특성, 소득, 배후 시설, 교통 시설 등 모든 데이터를 파악하고 있는 상태이다.\n",
    "\n",
    "[입력] :\n",
    "{prompt}\n",
    "\n",
    "[요청] :\n",
    "다음과 같은 입력이 들어왔을때 유동인구의 규모(대형, 중형, 소형)와 주 연령대(10대 ~ 60대), 소비 특성(외식형, 의료형, 생활서비스형, 여가-오락형, 교육형, 유통형), 소득(고소득, 중소득, 저소득), 배후 시설(오피스, 주택가, 역세권, 번화가, 대학가, 공원), 교통 시설(광역교통상권, 교통소외지상권, 교통중심지상권), 경쟁 환경(경쟁과열, 비경쟁) 등을 활용하여 너가 생각하는 상권의 특징을 줄글로 설명해줘.\"\"\"\n",
    "\n",
    "example_prompt = \"\"\"[역할] : \n",
    "너는 백화점 운영을 10년 이상 해왔다. 각 상권별로 유동인구, 소비 특성, 소득, 배후 시설, 교통 시설 등 모든 데이터를 파악하고 있는 상태이다.\n",
    "\n",
    "[입력] :\n",
    "오설록 브랜드 입점을 위한 적합한 지역 추천\n",
    "\n",
    "[요청] :\n",
    "다음과 같은 입력이 들어왔을때 유동인구의 규모(대형, 중형, 소형)와 주 연령대(10대 ~ 60대), 소비 특성(외식형, 의료형, 생활서비스형, 여가-오락형, 교육형, 유통형), 소득(고소득, 중소득, 저소득), 배후 시설(오피스, 주택가, 역세권, 번화가, 대학가, 공원), 교통 시설(광역교통상권, 교통소외지상권, 교통중심지상권), 경쟁 환경(경쟁과열, 비경쟁) 등을 활용하여 너가 생각하는 상권의 특징을 줄글로 설명해줘.\"\"\"\n",
    "\n",
    "example = \"\"\"\n",
    "오설록 브랜드는 젊은 세대를 대상으로 한 차 마시는 체험을 제공하는 브랜드입니다. 따라서, 상권 유동인구 측면에서는 20대에서 40대 중-고소득 층이 많은 대형 상권이 적합할 것입니다. 오설록 브랜드는 휴일 등 많은 사람들이 방문하는 날에 많은 이용객을 끌어들일 수 있기 때문입니다.\n",
    "소비 특성 측면에서는, 외식형 소비자와 여가-오락형 소비자들이 많이 찾는 상권이 적합합니다. 주변에 다양한 음식점과 오락시설, 문화시설이 위치해 있을 경우에 브랜드 인지도와 함께 더욱 많은 고객을 확보할 수 있을 것입니다.\n",
    "소득 측면에서는 중-고소득층이 많은 지역이 적합합니다. 따라서, 해당 지역의 주변에는 유명한 쇼핑센터나 디자이너 브랜드 매장 등이 위치하고 있으면 더욱 적합합니다. 이러한 상권이 주변에 존재할 경우, 브랜드 인지도와 고객 유치율이 높아질 것입니다. \n",
    "주변 시설 측면에서는, 주변에 대형 인프라(상가, 회사 등)가 있거나 번화가, 대학가 등이 위치하는 지역이 적합합니다. 이는 오설록 브랜드의 고객층과 상관관계가 높기 때문입니다. 또한, 대중교통편이 잘 발달해 있는 지역이면 더욱 좋을 것입니다.\n",
    "경쟁 환경 측면에서는, 비교적 경쟁이 적은 상권이 좋습니다. 규모가 다른 차마시는 체험을 제공하는 매장들이 있다면, 독특한 차마시는 체험을 제공하는 것이 필요합니다.\"\"\""
   ]
  },
  {
   "cell_type": "code",
   "execution_count": 47,
   "metadata": {
    "tags": []
   },
   "outputs": [
    {
     "name": "stdout",
     "output_type": "stream",
     "text": [
      "[역할] : \n",
      "너는 백화점 운영을 10년 이상 해왔다. 각 상권별로 유동인구, 소비 특성, 소득, 배후 시설, 교통 시설 등 모든 데이터를 파악하고 있는 상태이다.\n",
      "\n",
      "[입력] :\n",
      "골프 브랜드 ‘UTAA' 브랜드 입점을 위한 적합한 지점 추천\n",
      "\n",
      "[요청] :\n",
      "다음과 같은 입력이 들어왔을때 유동인구의 규모(대형, 중형, 소형)와 주 연령대(10대 ~ 60대), 소비 특성(외식형, 의료형, 생활서비스형, 여가-오락형, 교육형, 유통형), 소득(고소득, 중소득, 저소득), 배후 시설(오피스, 주택가, 역세권, 번화가, 대학가, 공원), 교통 시설(광역교통상권, 교통소외지상권, 교통중심지상권), 경쟁 환경(경쟁과열, 비경쟁) 등을 활용하여 너가 생각하는 상권의 특징을 줄글로 설명해줘.\n"
     ]
    }
   ],
   "source": [
    "print(txt)"
   ]
  },
  {
   "cell_type": "code",
   "execution_count": 48,
   "metadata": {
    "tags": []
   },
   "outputs": [
    {
     "name": "stdout",
     "output_type": "stream",
     "text": [
      "골프 브랜드 UTAA은 골프 클럽 제품으로 대형 백화점과 전문 골프슈퍼마켓에서 판매됩니다. 따라서, 상권 유동인구 측면에서는 골프 취미를 가진 30대 이상의 고소득층이 많이 찾는 대형상권이 적합할 것입니다. \n",
      "주 연령대 측면에서는, 골프 열정을 가진 30대부터 60대까지의 연령층이 많이 찾는 상권이 적합합니다. \n",
      "소비 특성 측면에서는, 대형 백화점, 외식업소, 전문 골프용품 매장 등이 위치한 번화한 상권이 적합합니다. \n",
      "소득 측면에서는 고소득층 중심의 지역이 적합합니다. 이는 골프 열정을 가진 소비자가 많으며 여유 있는 소비력을 가진 고객층이 많기 때문입니다. \n",
      "배후 시설 측면에서는 주택가나 회사 지역이 주변에 있으면서도 대형 백화점이 위치하고 있는 지역이 적합합니다. 대기업 본사가 위치해 있는 지역에서는 경제적으로 안정된 고객층이 많아 매출 확대가 가능합니다. \n",
      "교통 시설 측면에서는 대중교통이 잘 발달해 있는 지역이 적합합니다. 광역교통상권이 위치한 지역에서는 지역 외 소비자 유치에도 좋은 인프라를 가지고 있어 매출 확대에 이점을 가져갈 수 있습니다.\n",
      "경쟁 환경 측면에서는 경쟁이 적은 지역이 적합합니다. 골프 클럽 제품은 다양한 브랜드와 제품이 존재하지만, UTAA는 고객들이 새로운 브랜드를 찾는 경우에 많은 관심을 받을 것입니다.\n"
     ]
    }
   ],
   "source": [
    "promotion_story = get_story(txt)\n",
    "print(promotion_story)"
   ]
  },
  {
   "cell_type": "code",
   "execution_count": 39,
   "metadata": {
    "tags": []
   },
   "outputs": [],
   "source": [
    "story = pd.read_csv(\"data/prompt_story.csv\")"
   ]
  },
  {
   "cell_type": "code",
   "execution_count": 40,
   "metadata": {
    "tags": []
   },
   "outputs": [],
   "source": [
    "result = {}\n",
    "corpus = []\n",
    "\n",
    "corpus = list(story[\"story\"].values)\n",
    "corpus_embeddings = embedder.encode(corpus, convert_to_tensor=True)\n",
    "\n",
    "query_embedding = embedder.encode(promotion_story, convert_to_tensor=True)"
   ]
  },
  {
   "cell_type": "code",
   "execution_count": 41,
   "metadata": {
    "tags": []
   },
   "outputs": [
    {
     "name": "stderr",
     "output_type": "stream",
     "text": [
      "424it [00:00, 11087.40it/s]\n"
     ]
    }
   ],
   "source": [
    "def cos_sim(a, b):\n",
    "    return np.dot(a, b)/(np.linalg.norm(a)*np.linalg.norm(b))\n",
    "\n",
    "story_similarity_result = {k: 0 for k in corpus}\n",
    "\n",
    "for tmp_story, tmp_story_embedding in tqdm(zip(corpus, corpus_embeddings)):\n",
    "    story_similarity_result[tmp_story] = cos_sim(query_embedding.cpu(), tmp_story_embedding.cpu())"
   ]
  },
  {
   "cell_type": "code",
   "execution_count": 42,
   "metadata": {
    "tags": []
   },
   "outputs": [],
   "source": [
    "story[\"similarity\"] = story[\"story\"].apply(lambda x: story_similarity_result[x])"
   ]
  },
  {
   "cell_type": "code",
   "execution_count": 43,
   "metadata": {
    "tags": []
   },
   "outputs": [],
   "source": [
    "result = story.sort_values(by=\"similarity\", ascending=False).head(3)\n",
    "result_area = [\" \".join(i) for i in result[[\"시군구\", \"행정구역\"]].values]"
   ]
  },
  {
   "cell_type": "code",
   "execution_count": 44,
   "metadata": {
    "tags": []
   },
   "outputs": [
    {
     "name": "stdout",
     "output_type": "stream",
     "text": [
      "골프 브랜드 ‘malbon'의 특징은 고객들이 골프를 즐기며 라이프스타일을 추구한다는 것입니다. 이에 따라, 상권의 유동인구 측면에서는 골프를 즐기는 고객층인 30대에서 50대의 중-고소득층이 많은 지역이 적합합니다. \n",
      "소비 특성 측면에서는, 여가-오락형 소비자들이 많이 찾는 상권이 적합합니다. 따라서, 주변에는 골프 용품 매장, 골프 연습장, 골프 코스 등의 시설이 있어야 합니다. 또한, 골프 코스 매니아들의 경우 뷰티, 요가, 토탈 웰빙 등 라이프스타일 관련 상품·서비스에 대해서도 관심을 가지고 있으므로 그와 연관된 다양한 시설이 위치해 있으면 더욱 적합할 것입니다.\n",
      "소득 측면에서는 중-고소득층이 많은 지역이 적합합니다. 골프는 높은 참여비용으로 인해 대체로 중상위층의 취미활동으로 인식되고 있다는 점을 고려해야 합니다.\n",
      "주변 시설 측면에서는, 골프 시설(연습장, 대회장 등), 상업시설(매장, 식당 등)과 함께 주택가와 역세권이 위치한 곳이 좋습니다. 골프 코스 매니아들은 일반적으로 주변에 머무는 경우가 많으므로, 주변에 골프 필드와 함께 쇼핑센터, 문화시설 등도 있으면 더욱 적합할 것입니다.\n",
      "경쟁 환경 측면에서는, 경쟁과열 구역보다는 비교적 경쟁이 적은 구역이 좋습니다. 브랜드 인지도와 더불어, 차별화 된 골프 연습장과 매장 등을 갖춘 구역이 좋습니다.\n",
      "적합한 상권은 ['중구 소공동', '강남구 압구정동', '용산구 용문동']입니다.\n",
      "====================================================================================================\n",
      "중구 소공동은 대부분 고급 일반상점, 디자이너 브랜드 가게, 그리고 고급 주거지역으로 구성된 상권입니다. 해당 지역의 유동인구는 대부분 중장년층이며, 소득 수준은 중상위권의 고소득층이 많이 거주하고 있는 지역입니다.\n",
      "\n",
      "주요 소비 특성은 여가-오락형, 의료형, 생활서비스형 등 다양하며, 특히 가구당 지출금액이 높은 독서와 관련된 제품과 서비스를 위한 서점, 카페, 다양한 컨셉과 쇼핑 브랜드가 입점한 디자인건축물, 갤러리, 박물관 등이 위치합니다.\n",
      "\n",
      "배후 시설은 대체로 상쾌한 공기와 발걸음으로 도보로 이동이 가능한 지역으로, 고급 주거지역이 대부분입니다. 교통 시설은 서울 중심지에 위치하면서 지하철, 버스 등 대중교통 수단이 잘 발달하고, 근처에 서울역이 위치해 있어 교통의 편리성이 높은 것이 특징입니다.\n",
      "\n",
      "경쟁 환경은 비교적 경쟁이 높은 편이며, 특히 국제 럭셔리 브랜드들이 밀집되어 있어 그들과 경쟁할 만한 명성이나 브랜드력이 필요합니다. 따라서 소공동의 입점 상점들은 브랜드와 서비스의 차별성을 강조하고 창의적인 서비스와 마케팅 전략을 구사하는 것이 중요합니다.\n",
      "====================================================================================================\n",
      "강남구 압구정동은 고급 주택가와 매장이 유독 밀집되어 있는 지역으로, 주요 유동인구는 고소득층이 주를 이루며, 40대와 50대의 중장년층이 많다. 소비 성향은 의료서비스와 서점, 공연장 등 문화 예술 분야에서 소비성향이 높은 것으로 알려져 있으며, 그들은 고급 브랜드 쇼핑에도 큰 관심을 가지며, 연령대에 따른 구매 패턴 역시 차이가 있다. 그리고 소득 수준은 매우 높은 편이며, 배후 시설은 고급 주거지와 인접한 지역이라 교육 시설과 문화시설이 밀집하게 위치해 있다. 또한, 교통시설은 지하철을 포함한 대중교통 노선이 잘 구축되어 있으나, 주변 도로의 교통 체증 문제도 여전하다. 경쟁 환경은 대체로 경쟁과열로 매우 경쟁력이 높은 편이며, 국내외 유명 브랜드 매장들이 입점하고 있어 고급스러운 이미지를 물씬 풍기고 있다.\n"
     ]
    }
   ],
   "source": [
    "print(f\"{promotion_story}\\n적합한 상권은 {result_area}입니다.\")\n",
    "print(\"=\"*100)\n",
    "print(story[story[\"행정구역\"] == result_area[0].split(\" \")[1]][\"story\"].values[0])\n",
    "print(\"=\"*100)\n",
    "print(story[story[\"행정구역\"] == result_area[1].split(\" \")[1]][\"story\"].values[0])"
   ]
  },
  {
   "cell_type": "code",
   "execution_count": null,
   "metadata": {},
   "outputs": [],
   "source": []
  },
  {
   "cell_type": "code",
   "execution_count": null,
   "metadata": {},
   "outputs": [],
   "source": []
  },
  {
   "cell_type": "code",
   "execution_count": null,
   "metadata": {},
   "outputs": [],
   "source": []
  },
  {
   "cell_type": "code",
   "execution_count": null,
   "metadata": {},
   "outputs": [],
   "source": []
  }
 ],
 "metadata": {
  "kernelspec": {
   "display_name": "justtype",
   "language": "python",
   "name": "justtype"
  },
  "language_info": {
   "codemirror_mode": {
    "name": "ipython",
    "version": 3
   },
   "file_extension": ".py",
   "mimetype": "text/x-python",
   "name": "python",
   "nbconvert_exporter": "python",
   "pygments_lexer": "ipython3",
   "version": "3.9.16"
  }
 },
 "nbformat": 4,
 "nbformat_minor": 4
}
